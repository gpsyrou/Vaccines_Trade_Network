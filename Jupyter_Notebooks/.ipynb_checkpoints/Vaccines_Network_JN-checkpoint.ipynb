{
 "cells": [
  {
   "cell_type": "markdown",
   "metadata": {},
   "source": [
    "# Vaccines Trade Network\n",
    "### Author: Georgios Spyrou\n",
    "### Date: 23/05/2020\n",
    "\n",
    "<img src=\"https://www.our-voices.org.uk/assets/images/Network-diagram.png\" width=720 height=400 />"
   ]
  },
  {
   "cell_type": "markdown",
   "metadata": {},
   "source": [
    "## Project Puprose\n",
    "\n",
    "Scope of this project is to construct the global trade network of vaccines around the globe for multiple years(current data span from 2017 to 2019. Through plotting and statistical analysis, we want to identify informative patterns on how different countries change their import/export activity of vaccines. \n",
    "\n",
    "## Part 1: Data Retrieval\n",
    "\n",
    "In order to find and retrieve data we have utilised the UN Comtrade API (https://comtrade.un.org/Data/).This is a great place if someone wants to find data regarding exports/impors of countries around the world, pretty much for any product/service. The data are very well documented and visualized on the website, and it's easy to do some exploration  and locate data that seem interesting for your project.\n",
    "\n",
    "Therefore, after I managed to identify the relevant data that I wanted to work with (vaccines for human medicine), I had to find a way to leverage the API to get my data. Even though the website allows us to download sample CSV files, if we wanted to do that for multiple years and countries it would take a lot of time. Hence, I have decided to approach the data retrival from a Python standpoint, in order to automate this task.\n",
    "\n",
    "Before we jump to the part of how we are going to automate the data retrieval, it might worths it to explain what exactly we are aiming to retrieve.\n"
   ]
  },
  {
   "cell_type": "markdown",
   "metadata": {},
   "source": [
    "The UN Comtrade database is giving us the opportunity to pick from a plethora of goods and services. My first task was to find the specific code that corresponds to human vaccines. After a bit of research we have found that this code is *300220*, which is a unique value that will allow us to only pick data for this good/product. After we located our product code, we have to decide on the time range that we want to pick data for. This can quickly get tricky as the database does not allow you to many years/countries all at once. But for now lets say that the scope of interest was *monthly* data from 2017 to 2019, for as many countries as possible - mainly because there are countries which do not seem to import/export vaccines or we do not have relevant information about them.\n",
    "\n",
    "Now that are know pretty much what we are looking for, lets dive into creating some API calls in Python to automatically get the data."
   ]
  },
  {
   "cell_type": "code",
   "execution_count": 1,
   "metadata": {},
   "outputs": [],
   "source": [
    "import requests\n",
    "import csv\n",
    "import json\n",
    "import time\n",
    "import os\n",
    "\n",
    "# Setting up the parameters for the API calls to receive the data\n",
    "\n",
    "max_rec = 100000\n",
    "output_fmt = 'csv'\n",
    "trade_type = 'C'            # Commodities\n",
    "frequency = 'M'             # Monthly\n",
    "px = 'HS'                   # Classification for products\n",
    "cc = 300220                 # Subcategory --> 300220 code for Vaccines\n",
    "reporter = 'all'\n",
    "partner = 'all'                 \n",
    "rg ='all'\n",
    "\n",
    "# Connection string to comtrade.un.org based on the parameters above\n",
    "api_call_string = f'http://comtrade.un.org/api/get?max={max_rec}&type={trade_type}&freq={frequency}&px={px}&ps=year&r=reporter&p={partner}&rg={rg}&cc={cc}&fmt={output_fmt}'"
   ]
  },
  {
   "cell_type": "markdown",
   "metadata": {},
   "source": [
    "After we have set up the string that will be used to do the appropriate API calls, it's time create a function that will use this string to retrieve the data and generate the csv files."
   ]
  },
  {
   "cell_type": "code",
   "execution_count": 2,
   "metadata": {},
   "outputs": [],
   "source": [
    "def getDataCall(api_string: str, reporterid: str, reportername: str, year: int, out_folder: str) -> None:\n",
    "    '''\n",
    "    Create a .csv file that contains the data as received from  https://comtrade.un.org/Data/, for a specific year.\n",
    "\n",
    "    Args:\n",
    "    ----\n",
    "        api_string: String that contains the URL for the API call. The string already contains all the paremeters required for the call.\n",
    "        reporter: Specify Reporter country.\n",
    "        year: Specify year of interest.\n",
    "    Returns:\n",
    "    -------\n",
    "        None: The output is a .csv file that contains the data for a specified year.\n",
    "    '''\n",
    "    csv_by_year_out_loc = os.path.join(out_folder, f'{year}')\n",
    "    if not os.path.exists(csv_by_year_out_loc):\n",
    "        os.makedirs(name=csv_by_year_out_loc)\n",
    "\n",
    "    api_string = api_string.replace('year', f'{year}').replace('reporter', f'{reporterid}')\n",
    "    print(api_string)\n",
    "\n",
    "    response = requests.get(url=api_string)\n",
    "\n",
    "    if response.status_code != 200:\n",
    "        print('Could not access the API!')\n",
    "    else:\n",
    "        decoded_data = response.content.decode('utf-8')\n",
    "        csv_file = csv.reader(decoded_data.splitlines())\n",
    "        datalines = list(csv_file)\n",
    "\n",
    "        with open(os.path.join(csv_by_year_out_loc, f'Comtrade_Vaccines_Data_{reportername}_{year}.csv'), 'w', newline='') as f:\n",
    "            writer = csv.writer(f, delimiter=',')\n",
    "            writer.writerows(datalines)"
   ]
  },
  {
   "cell_type": "markdown",
   "metadata": {},
   "source": [
    "Note that this call will run for *each* country, therefore we will end up with a lot of csv files. The country codes can be found here: https://comtrade.un.org/Data/cache/reporterAreas.json"
   ]
  },
  {
   "cell_type": "code",
   "execution_count": 3,
   "metadata": {},
   "outputs": [],
   "source": [
    "reporters_url = 'https://comtrade.un.org/Data/cache/partnerAreas.json'\n",
    "reporters_resp = requests.get(url=reporters_url)\n",
    "json_data = json.loads(reporters_resp.text)\n",
    "\n",
    "reporters_list = [rep for rep in json_data['results']]\n",
    "\n",
    "# Get the data as separate csv files, each for every year of interest\n",
    "years_ls = [2017]\n",
    "outputFilesFolder = f'CSVFiles\\\\'"
   ]
  },
  {
   "cell_type": "code",
   "execution_count": null,
   "metadata": {},
   "outputs": [],
   "source": [
    "for api_check, repd in enumerate(reporters_list):\n",
    "    # Need to make the script to sleep every 100 calls, as the API is blocking us for an hour for every 100 calls.\n",
    "    if api_check !=0 and api_check % 100 == 0:\n",
    "        time.sleep(3600)\n",
    "    countryname = repd['text']\n",
    "    c_id = repd['id']\n",
    "    print(f'\\nCountry..: {countryname}')\n",
    "    for year in years_ls:\n",
    "        print(f'\\nReceiving the data for {year} from https://comtrade.un.org/...\\n')\n",
    "        getDataCall(api_call_string, reporterid=c_id, reportername=countryname, year=year, out_folder=outputFilesFolder)\n",
    "        time.sleep(6)"
   ]
  },
  {
   "cell_type": "markdown",
   "metadata": {},
   "source": [
    "At this point, we have successfully get the data for every country that we cound find a corresponding country code. That said, as we mentioned before there are some countries that contain no data for a specific year - which is might be for many reasons but this is out of the scope of this project. Hence, after we have ended up with multiple csv files , one for each country , we can repeat this process for as many years as we want to. I have repeated it three times (2017, 2018, 2019)."
   ]
  },
  {
   "cell_type": "markdown",
   "metadata": {},
   "source": [
    "As you can probably imagine this process generated over 300 csv files (3 years x over 100 countries). Hence it was necessary to perform some data cleaning operations in the directory that the files were created. The main task was to merge all this files for a specific year (e.g. all countries for 2017 merged to a common csv file), and at the same time delete all the files from the directory that contained no data.\n",
    "\n",
    "In order to do that we have created a script to automatically do this for us, but as it might not be that of an interesting task we are going to leave it outside of this notebook. That said, the code that completes this can be found here: https://github.com/gpsyrou/Vaccines_Trade_Network/blob/master/dataCleaning.py"
   ]
  },
  {
   "cell_type": "markdown",
   "metadata": {},
   "source": [
    "## Part 2: Exploratory Data Analysis & Data Cleaning"
   ]
  },
  {
   "cell_type": "markdown",
   "metadata": {},
   "source": [
    "Now that we have our data organized into separate csv files by year, we can start the task of exploring what we actually got from the data retriaval process. We will explore this by taking into consideration all the data from 2017 to 2019.\n",
    "\n",
    "**Note**: Frow now on you are going to see two packages, one named Functions and one named VaccinesTradeNetworkClass. Please note that these are custom packages that I have created for the purposes of this project. The first one contains some functions that we will keep using for our EDA tasks, while the VaccinesTradeNetworkClass one will be used later on, when we jump into creating out network graph objects."
   ]
  },
  {
   "cell_type": "code",
   "execution_count": 1,
   "metadata": {},
   "outputs": [],
   "source": [
    "import os\n",
    "import pandas as pd\n",
    "import numpy as np\n",
    "\n",
    "project_dir = 'C:\\\\Users\\\\george\\\\Desktop\\\\GitHub\\\\Projects\\\\Comtrade_Network'\n",
    "os.chdir(project_dir)\n",
    "\n",
    "import warnings\n",
    "warnings.filterwarnings('ignore')\n",
    "\n",
    "# Custom packages\n",
    "from Functions import tradeNetworkFunctions as tnf\n",
    "from VaccinesTradeNetworkClass import VaccinesTradeNetwork\n",
    "\n",
    "# Plotting and graphs\n",
    "import matplotlib.pyplot as plt\n",
    "import seaborn as sns\n",
    "\n",
    "csv_files_loc = os.path.join(project_dir, 'Merged_CSVs')\n",
    "maindf = pd.concat([pd.read_csv(os.path.join(csv_files_loc, file)) for file in os.listdir(csv_files_loc)])"
   ]
  },
  {
   "cell_type": "markdown",
   "metadata": {},
   "source": [
    "At this stage we need to explore the dataset and identify any potential issues in the data tha require cleaning, and also make sure that we understand the features.\n"
   ]
  },
  {
   "cell_type": "code",
   "execution_count": 2,
   "metadata": {},
   "outputs": [
    {
     "data": {
      "text/html": [
       "<div>\n",
       "<style scoped>\n",
       "    .dataframe tbody tr th:only-of-type {\n",
       "        vertical-align: middle;\n",
       "    }\n",
       "\n",
       "    .dataframe tbody tr th {\n",
       "        vertical-align: top;\n",
       "    }\n",
       "\n",
       "    .dataframe thead th {\n",
       "        text-align: right;\n",
       "    }\n",
       "</style>\n",
       "<table border=\"1\" class=\"dataframe\">\n",
       "  <thead>\n",
       "    <tr style=\"text-align: right;\">\n",
       "      <th></th>\n",
       "      <th>Year</th>\n",
       "      <th>Period</th>\n",
       "      <th>Aggregate Level</th>\n",
       "      <th>Is Leaf Code</th>\n",
       "      <th>Trade Flow Code</th>\n",
       "      <th>Reporter Code</th>\n",
       "      <th>Reporter ISO</th>\n",
       "      <th>Partner Code</th>\n",
       "      <th>Partner ISO</th>\n",
       "      <th>2nd Partner Code</th>\n",
       "      <th>...</th>\n",
       "      <th>Qty</th>\n",
       "      <th>Alt Qty Unit Code</th>\n",
       "      <th>Alt Qty Unit</th>\n",
       "      <th>Alt Qty</th>\n",
       "      <th>Netweight (kg)</th>\n",
       "      <th>Gross weight (kg)</th>\n",
       "      <th>Trade Value (US$)</th>\n",
       "      <th>CIF Trade Value (US$)</th>\n",
       "      <th>FOB Trade Value (US$)</th>\n",
       "      <th>Flag</th>\n",
       "    </tr>\n",
       "  </thead>\n",
       "  <tbody>\n",
       "    <tr>\n",
       "      <th>count</th>\n",
       "      <td>174733.000000</td>\n",
       "      <td>174733.000000</td>\n",
       "      <td>174733.0</td>\n",
       "      <td>174733.0</td>\n",
       "      <td>174733.000000</td>\n",
       "      <td>174733.000000</td>\n",
       "      <td>0.0</td>\n",
       "      <td>174733.000000</td>\n",
       "      <td>0.0</td>\n",
       "      <td>0.0</td>\n",
       "      <td>...</td>\n",
       "      <td>0.0</td>\n",
       "      <td>0.0</td>\n",
       "      <td>0.0</td>\n",
       "      <td>0.0</td>\n",
       "      <td>1.459460e+05</td>\n",
       "      <td>0.0</td>\n",
       "      <td>1.747330e+05</td>\n",
       "      <td>0.0</td>\n",
       "      <td>0.0</td>\n",
       "      <td>174733.0</td>\n",
       "    </tr>\n",
       "    <tr>\n",
       "      <th>mean</th>\n",
       "      <td>2014.509721</td>\n",
       "      <td>201457.467548</td>\n",
       "      <td>6.0</td>\n",
       "      <td>1.0</td>\n",
       "      <td>1.573652</td>\n",
       "      <td>430.022137</td>\n",
       "      <td>NaN</td>\n",
       "      <td>383.477483</td>\n",
       "      <td>NaN</td>\n",
       "      <td>NaN</td>\n",
       "      <td>...</td>\n",
       "      <td>NaN</td>\n",
       "      <td>NaN</td>\n",
       "      <td>NaN</td>\n",
       "      <td>NaN</td>\n",
       "      <td>2.202360e+04</td>\n",
       "      <td>NaN</td>\n",
       "      <td>5.059609e+06</td>\n",
       "      <td>NaN</td>\n",
       "      <td>NaN</td>\n",
       "      <td>0.0</td>\n",
       "    </tr>\n",
       "    <tr>\n",
       "      <th>std</th>\n",
       "      <td>2.784246</td>\n",
       "      <td>278.388706</td>\n",
       "      <td>0.0</td>\n",
       "      <td>0.0</td>\n",
       "      <td>0.534287</td>\n",
       "      <td>269.904852</td>\n",
       "      <td>NaN</td>\n",
       "      <td>280.672337</td>\n",
       "      <td>NaN</td>\n",
       "      <td>NaN</td>\n",
       "      <td>...</td>\n",
       "      <td>NaN</td>\n",
       "      <td>NaN</td>\n",
       "      <td>NaN</td>\n",
       "      <td>NaN</td>\n",
       "      <td>1.922478e+06</td>\n",
       "      <td>NaN</td>\n",
       "      <td>3.375567e+07</td>\n",
       "      <td>NaN</td>\n",
       "      <td>NaN</td>\n",
       "      <td>0.0</td>\n",
       "    </tr>\n",
       "    <tr>\n",
       "      <th>min</th>\n",
       "      <td>2010.000000</td>\n",
       "      <td>201001.000000</td>\n",
       "      <td>6.0</td>\n",
       "      <td>1.0</td>\n",
       "      <td>1.000000</td>\n",
       "      <td>8.000000</td>\n",
       "      <td>NaN</td>\n",
       "      <td>0.000000</td>\n",
       "      <td>NaN</td>\n",
       "      <td>NaN</td>\n",
       "      <td>...</td>\n",
       "      <td>NaN</td>\n",
       "      <td>NaN</td>\n",
       "      <td>NaN</td>\n",
       "      <td>NaN</td>\n",
       "      <td>0.000000e+00</td>\n",
       "      <td>NaN</td>\n",
       "      <td>0.000000e+00</td>\n",
       "      <td>NaN</td>\n",
       "      <td>NaN</td>\n",
       "      <td>0.0</td>\n",
       "    </tr>\n",
       "    <tr>\n",
       "      <th>25%</th>\n",
       "      <td>2012.000000</td>\n",
       "      <td>201208.000000</td>\n",
       "      <td>6.0</td>\n",
       "      <td>1.0</td>\n",
       "      <td>1.000000</td>\n",
       "      <td>208.000000</td>\n",
       "      <td>NaN</td>\n",
       "      <td>124.000000</td>\n",
       "      <td>NaN</td>\n",
       "      <td>NaN</td>\n",
       "      <td>...</td>\n",
       "      <td>NaN</td>\n",
       "      <td>NaN</td>\n",
       "      <td>NaN</td>\n",
       "      <td>NaN</td>\n",
       "      <td>5.000000e+01</td>\n",
       "      <td>NaN</td>\n",
       "      <td>1.596700e+04</td>\n",
       "      <td>NaN</td>\n",
       "      <td>NaN</td>\n",
       "      <td>0.0</td>\n",
       "    </tr>\n",
       "    <tr>\n",
       "      <th>50%</th>\n",
       "      <td>2015.000000</td>\n",
       "      <td>201502.000000</td>\n",
       "      <td>6.0</td>\n",
       "      <td>1.0</td>\n",
       "      <td>2.000000</td>\n",
       "      <td>392.000000</td>\n",
       "      <td>NaN</td>\n",
       "      <td>364.000000</td>\n",
       "      <td>NaN</td>\n",
       "      <td>NaN</td>\n",
       "      <td>...</td>\n",
       "      <td>NaN</td>\n",
       "      <td>NaN</td>\n",
       "      <td>NaN</td>\n",
       "      <td>NaN</td>\n",
       "      <td>3.650000e+02</td>\n",
       "      <td>NaN</td>\n",
       "      <td>1.376720e+05</td>\n",
       "      <td>NaN</td>\n",
       "      <td>NaN</td>\n",
       "      <td>0.0</td>\n",
       "    </tr>\n",
       "    <tr>\n",
       "      <th>75%</th>\n",
       "      <td>2017.000000</td>\n",
       "      <td>201705.000000</td>\n",
       "      <td>6.0</td>\n",
       "      <td>1.0</td>\n",
       "      <td>2.000000</td>\n",
       "      <td>699.000000</td>\n",
       "      <td>NaN</td>\n",
       "      <td>643.000000</td>\n",
       "      <td>NaN</td>\n",
       "      <td>NaN</td>\n",
       "      <td>...</td>\n",
       "      <td>NaN</td>\n",
       "      <td>NaN</td>\n",
       "      <td>NaN</td>\n",
       "      <td>NaN</td>\n",
       "      <td>2.100000e+03</td>\n",
       "      <td>NaN</td>\n",
       "      <td>1.016600e+06</td>\n",
       "      <td>NaN</td>\n",
       "      <td>NaN</td>\n",
       "      <td>0.0</td>\n",
       "    </tr>\n",
       "    <tr>\n",
       "      <th>max</th>\n",
       "      <td>2019.000000</td>\n",
       "      <td>201912.000000</td>\n",
       "      <td>6.0</td>\n",
       "      <td>1.0</td>\n",
       "      <td>4.000000</td>\n",
       "      <td>894.000000</td>\n",
       "      <td>NaN</td>\n",
       "      <td>899.000000</td>\n",
       "      <td>NaN</td>\n",
       "      <td>NaN</td>\n",
       "      <td>...</td>\n",
       "      <td>NaN</td>\n",
       "      <td>NaN</td>\n",
       "      <td>NaN</td>\n",
       "      <td>NaN</td>\n",
       "      <td>4.681763e+08</td>\n",
       "      <td>NaN</td>\n",
       "      <td>1.867086e+09</td>\n",
       "      <td>NaN</td>\n",
       "      <td>NaN</td>\n",
       "      <td>0.0</td>\n",
       "    </tr>\n",
       "  </tbody>\n",
       "</table>\n",
       "<p>8 rows × 29 columns</p>\n",
       "</div>"
      ],
      "text/plain": [
       "                Year         Period  Aggregate Level  Is Leaf Code  \\\n",
       "count  174733.000000  174733.000000         174733.0      174733.0   \n",
       "mean     2014.509721  201457.467548              6.0           1.0   \n",
       "std         2.784246     278.388706              0.0           0.0   \n",
       "min      2010.000000  201001.000000              6.0           1.0   \n",
       "25%      2012.000000  201208.000000              6.0           1.0   \n",
       "50%      2015.000000  201502.000000              6.0           1.0   \n",
       "75%      2017.000000  201705.000000              6.0           1.0   \n",
       "max      2019.000000  201912.000000              6.0           1.0   \n",
       "\n",
       "       Trade Flow Code  Reporter Code  Reporter ISO   Partner Code  \\\n",
       "count    174733.000000  174733.000000           0.0  174733.000000   \n",
       "mean          1.573652     430.022137           NaN     383.477483   \n",
       "std           0.534287     269.904852           NaN     280.672337   \n",
       "min           1.000000       8.000000           NaN       0.000000   \n",
       "25%           1.000000     208.000000           NaN     124.000000   \n",
       "50%           2.000000     392.000000           NaN     364.000000   \n",
       "75%           2.000000     699.000000           NaN     643.000000   \n",
       "max           4.000000     894.000000           NaN     899.000000   \n",
       "\n",
       "       Partner ISO  2nd Partner Code    ...     Qty  Alt Qty Unit Code  \\\n",
       "count          0.0               0.0    ...     0.0                0.0   \n",
       "mean           NaN               NaN    ...     NaN                NaN   \n",
       "std            NaN               NaN    ...     NaN                NaN   \n",
       "min            NaN               NaN    ...     NaN                NaN   \n",
       "25%            NaN               NaN    ...     NaN                NaN   \n",
       "50%            NaN               NaN    ...     NaN                NaN   \n",
       "75%            NaN               NaN    ...     NaN                NaN   \n",
       "max            NaN               NaN    ...     NaN                NaN   \n",
       "\n",
       "       Alt Qty Unit  Alt Qty  Netweight (kg)  Gross weight (kg)  \\\n",
       "count           0.0      0.0    1.459460e+05                0.0   \n",
       "mean            NaN      NaN    2.202360e+04                NaN   \n",
       "std             NaN      NaN    1.922478e+06                NaN   \n",
       "min             NaN      NaN    0.000000e+00                NaN   \n",
       "25%             NaN      NaN    5.000000e+01                NaN   \n",
       "50%             NaN      NaN    3.650000e+02                NaN   \n",
       "75%             NaN      NaN    2.100000e+03                NaN   \n",
       "max             NaN      NaN    4.681763e+08                NaN   \n",
       "\n",
       "       Trade Value (US$)  CIF Trade Value (US$)  FOB Trade Value (US$)  \\\n",
       "count       1.747330e+05                    0.0                    0.0   \n",
       "mean        5.059609e+06                    NaN                    NaN   \n",
       "std         3.375567e+07                    NaN                    NaN   \n",
       "min         0.000000e+00                    NaN                    NaN   \n",
       "25%         1.596700e+04                    NaN                    NaN   \n",
       "50%         1.376720e+05                    NaN                    NaN   \n",
       "75%         1.016600e+06                    NaN                    NaN   \n",
       "max         1.867086e+09                    NaN                    NaN   \n",
       "\n",
       "           Flag  \n",
       "count  174733.0  \n",
       "mean        0.0  \n",
       "std         0.0  \n",
       "min         0.0  \n",
       "25%         0.0  \n",
       "50%         0.0  \n",
       "75%         0.0  \n",
       "max         0.0  \n",
       "\n",
       "[8 rows x 29 columns]"
      ]
     },
     "execution_count": 2,
     "metadata": {},
     "output_type": "execute_result"
    }
   ],
   "source": [
    "summary = maindf.describe()\n",
    "summary"
   ]
  },
  {
   "cell_type": "markdown",
   "metadata": {},
   "source": [
    "As we can see from the summary, few of the features does not seem to provide useful information for our analysis, as they either contain only empty values (e.g. 'Qty') or they contain fixed values (e.g.'Aggregate Level'). Therefore we will exclude the useless columns from our dataset to reduce the noise and the dimensions of our feature space.\n",
    "\n",
    "Note: More information regarding the feautures can be found here: https://comtrade.un.org/data/MethodologyGuideforComtradePlus.pdf"
   ]
  },
  {
   "cell_type": "code",
   "execution_count": 3,
   "metadata": {},
   "outputs": [],
   "source": [
    "useful_features_ls = ['Period', 'Reporter Code', 'Reporter', 'Partner Code',\n",
    "                      'Partner', 'Trade Flow', 'Commodity', 'Netweight (kg)',\n",
    "                      'Trade Value (US$)']\n",
    "df = maindf[useful_features_ls]"
   ]
  },
  {
   "cell_type": "code",
   "execution_count": 4,
   "metadata": {},
   "outputs": [
    {
     "data": {
      "text/plain": [
       "array(['Imports', 'Exports', 'Re-exports', 'Re-imports'], dtype=object)"
      ]
     },
     "execution_count": 4,
     "metadata": {},
     "output_type": "execute_result"
    }
   ],
   "source": [
    "df['Trade Flow'].unique()"
   ]
  },
  {
   "cell_type": "markdown",
   "metadata": {},
   "source": [
    "We will consider both 'Re-imports' and 'Re-exports' as 'Imports' and 'Exports' respectively and we will drop the entries where we dont have info about the trade flow."
   ]
  },
  {
   "cell_type": "code",
   "execution_count": 5,
   "metadata": {},
   "outputs": [],
   "source": [
    "trade_flow_dict = {'Re-imports':'Imports', \n",
    "                   'Re-exports':'Exports',\n",
    "                   'Imports':'Imports', \n",
    "                   'Exports':'Exports'}\n",
    "\n",
    "df['Trade Flow'] = df['Trade Flow'].map(trade_flow_dict)"
   ]
  },
  {
   "cell_type": "code",
   "execution_count": 6,
   "metadata": {},
   "outputs": [],
   "source": [
    "df.Partner.unique()\n",
    "\n",
    "df['Partner'].replace(\n",
    "    to_replace='United States of America',\n",
    "    value='USA',\n",
    "    inplace=True\n",
    ")\n",
    "\n",
    "df['Reporter'].replace(\n",
    "    to_replace='United States of America',\n",
    "    value='USA',\n",
    "    inplace=True\n",
    ")"
   ]
  },
  {
   "cell_type": "markdown",
   "metadata": {},
   "source": [
    "Now we can observe that we have a node called 'World' but we would like to  analyze the trade relationships between specific countries. Thus we will exclude from the analysis the cases where the reporter or partner is 'World'. Finally, **Period** will be the column that identifies the specific datetime.\n"
   ]
  },
  {
   "cell_type": "code",
   "execution_count": 7,
   "metadata": {},
   "outputs": [],
   "source": [
    "df = df[df.Partner != 'World']\n",
    "\n",
    "df['Period'] = pd.to_datetime(df['Period'], format='%Y%m')"
   ]
  },
  {
   "cell_type": "markdown",
   "metadata": {},
   "source": [
    "Except the nodes of our analysis which will correspond to countries, the other main features of interest are the **Netweight** of the export/import in kilograms as well as the **Trade Value in US dollars($)**.\n",
    "\n",
    "Now we are in a position that we can start doing some data visualization to get a better understanding of our dataset. Therefore,l ets find the top countries that import/export vaccines in terms of US dollars($)."
   ]
  },
  {
   "cell_type": "code",
   "execution_count": 8,
   "metadata": {},
   "outputs": [],
   "source": [
    "# Specify the top-n number of countries that we want to plot for\n",
    "topn = 15"
   ]
  },
  {
   "cell_type": "markdown",
   "metadata": {},
   "source": [
    "At this point its necessary to introduce two functions for our EDA analysis. One function is being used in order to calculate the statistics of interest, while the second one is to plot the results. Both of these functions our packaged in *Functions* as we mentioned above, but as they mighe be interesting we are also going to include them into this notebook."
   ]
  },
  {
   "cell_type": "code",
   "execution_count": 9,
   "metadata": {},
   "outputs": [],
   "source": [
    "def getAggStatistics(df: pd.core.frame.DataFrame, feature: str,\n",
    "                     kind: str, year: str) -> pd.core.frame.DataFrame:\n",
    "    '''\n",
    "    Given a dataframe and a feature column (numerical), identify the top\n",
    "    importers/exporters.\n",
    "    \n",
    "    Args:\n",
    "    ----\n",
    "        df: DataFrame that contains the data and the required features.\n",
    "        feature: Numerical feature to aggregate (e.g. 'Trade Value (US$)', 'Netweight (kg)')\n",
    "        kind: 'Imports', 'Exports'\n",
    "        year: Specify year of interest or 'all' for all years.\n",
    "    Returns:\n",
    "    -------\n",
    "        df_sorted: Sorted dataframe that contains the aggregated values.\n",
    "    '''\n",
    "    if year == 'all':\n",
    "        df = df.loc[df['Trade Flow'] == kind, [feature,\n",
    "            'Reporter']].groupby(['Reporter']).agg(['sum']).reset_index()\n",
    "        df['Year'] = int(year)\n",
    "    else:\n",
    "        df = df.loc[(df['Trade Flow'] == kind) & (df['Period'] > f'{year}-01-01') & (df['Period'] <= f'{year}-12-31'), \n",
    "                    [feature,'Reporter']].groupby(['Reporter']).agg(['sum']).reset_index()\n",
    "        df['Year'] = int(year)\n",
    "    df_sorted = df.sort_values(by=(feature,'sum'), ascending=False)\n",
    "    \n",
    "    return df_sorted"
   ]
  },
  {
   "cell_type": "code",
   "execution_count": 10,
   "metadata": {},
   "outputs": [],
   "source": [
    "def plotTopnCountries(df: pd.core.frame.DataFrame, feature: str,\n",
    "                      topn: int, kind: str, year: str) -> None:\n",
    "    '''\n",
    "    Create a bar plot of the top-N countries compared to an aggregated column.        \n",
    "    '''\n",
    "    if kind != 'Import' and kind != 'Export':\n",
    "        raise ValueError('Trade flow is not set to Import or Export')\n",
    "\n",
    "    plt.figure(figsize=(12,6))\n",
    "    g = sns.barplot(x='Reporter', y=(feature,'sum'), data=df[0:topn],\n",
    "                    palette='muted')\n",
    "\n",
    "    if topn > 5 and topn <= 10:\n",
    "        rot = 0\n",
    "    elif topn > 10:\n",
    "        rot = 75\n",
    "    else:\n",
    "        rot = 0\n",
    "\n",
    "    g.set_xticklabels(g.get_xticklabels(), rotation=rot)\n",
    "    plt.ticklabel_format(style='plain', axis='y')\n",
    "    if year == 'all':\n",
    "        plt.title(f'Top-{topn} {kind}ers of vaccines around the globe')\n",
    "    else:\n",
    "        plt.title(f'Top-{topn} {kind}ers of vaccines around the globe in {year}')\n",
    "    plt.xlabel(f'{kind}er Country')\n",
    "    if feature == 'Trade Value (US$)':\n",
    "        plt.ylabel(f'Total amount of {kind}s in US$')\n",
    "    else:\n",
    "        plt.ylabel(f'Total amount of {kind}s in Netweight (kg)')\n",
    "    plt.grid(True, alpha = 0.3)\n",
    "    plt.show()\n"
   ]
  },
  {
   "cell_type": "markdown",
   "metadata": {},
   "source": [
    "Now we can explore which are the top importers and exporters of vaccines for the different years of interest.\n",
    "\n",
    "The analysis will be focused on Trade Value in US($) dollars, but it can be easily applied to the Netweight of exports/imports."
   ]
  },
  {
   "cell_type": "code",
   "execution_count": 11,
   "metadata": {},
   "outputs": [
    {
     "data": {
      "text/html": [
       "<div>\n",
       "<style scoped>\n",
       "    .dataframe tbody tr th:only-of-type {\n",
       "        vertical-align: middle;\n",
       "    }\n",
       "\n",
       "    .dataframe tbody tr th {\n",
       "        vertical-align: top;\n",
       "    }\n",
       "\n",
       "    .dataframe thead tr th {\n",
       "        text-align: left;\n",
       "    }\n",
       "</style>\n",
       "<table border=\"1\" class=\"dataframe\">\n",
       "  <thead>\n",
       "    <tr>\n",
       "      <th></th>\n",
       "      <th>Reporter</th>\n",
       "      <th>Trade Value (US$)</th>\n",
       "      <th>Year</th>\n",
       "    </tr>\n",
       "    <tr>\n",
       "      <th></th>\n",
       "      <th></th>\n",
       "      <th>sum</th>\n",
       "      <th></th>\n",
       "    </tr>\n",
       "  </thead>\n",
       "  <tbody>\n",
       "    <tr>\n",
       "      <th>8</th>\n",
       "      <td>Belgium</td>\n",
       "      <td>7360332016</td>\n",
       "      <td>2019</td>\n",
       "    </tr>\n",
       "    <tr>\n",
       "      <th>75</th>\n",
       "      <td>USA</td>\n",
       "      <td>6830179716</td>\n",
       "      <td>2019</td>\n",
       "    </tr>\n",
       "    <tr>\n",
       "      <th>78</th>\n",
       "      <td>United Kingdom</td>\n",
       "      <td>1931609396</td>\n",
       "      <td>2019</td>\n",
       "    </tr>\n",
       "    <tr>\n",
       "      <th>57</th>\n",
       "      <td>Poland</td>\n",
       "      <td>641202547</td>\n",
       "      <td>2019</td>\n",
       "    </tr>\n",
       "    <tr>\n",
       "      <th>16</th>\n",
       "      <td>Canada</td>\n",
       "      <td>617836218</td>\n",
       "      <td>2019</td>\n",
       "    </tr>\n",
       "    <tr>\n",
       "      <th>39</th>\n",
       "      <td>Italy</td>\n",
       "      <td>462817629</td>\n",
       "      <td>2019</td>\n",
       "    </tr>\n",
       "    <tr>\n",
       "      <th>69</th>\n",
       "      <td>Spain</td>\n",
       "      <td>345401789</td>\n",
       "      <td>2019</td>\n",
       "    </tr>\n",
       "    <tr>\n",
       "      <th>36</th>\n",
       "      <td>India</td>\n",
       "      <td>329252172</td>\n",
       "      <td>2019</td>\n",
       "    </tr>\n",
       "    <tr>\n",
       "      <th>40</th>\n",
       "      <td>Japan</td>\n",
       "      <td>325991474</td>\n",
       "      <td>2019</td>\n",
       "    </tr>\n",
       "    <tr>\n",
       "      <th>37</th>\n",
       "      <td>Ireland</td>\n",
       "      <td>293131431</td>\n",
       "      <td>2019</td>\n",
       "    </tr>\n",
       "    <tr>\n",
       "      <th>74</th>\n",
       "      <td>Turkey</td>\n",
       "      <td>252786664</td>\n",
       "      <td>2019</td>\n",
       "    </tr>\n",
       "    <tr>\n",
       "      <th>4</th>\n",
       "      <td>Australia</td>\n",
       "      <td>234699381</td>\n",
       "      <td>2019</td>\n",
       "    </tr>\n",
       "    <tr>\n",
       "      <th>52</th>\n",
       "      <td>Pakistan</td>\n",
       "      <td>205676847</td>\n",
       "      <td>2019</td>\n",
       "    </tr>\n",
       "    <tr>\n",
       "      <th>18</th>\n",
       "      <td>China, Hong Kong SAR</td>\n",
       "      <td>186231962</td>\n",
       "      <td>2019</td>\n",
       "    </tr>\n",
       "    <tr>\n",
       "      <th>13</th>\n",
       "      <td>Brazil</td>\n",
       "      <td>182448592</td>\n",
       "      <td>2019</td>\n",
       "    </tr>\n",
       "  </tbody>\n",
       "</table>\n",
       "</div>"
      ],
      "text/plain": [
       "                Reporter Trade Value (US$)  Year\n",
       "                                       sum      \n",
       "8                Belgium        7360332016  2019\n",
       "75                   USA        6830179716  2019\n",
       "78        United Kingdom        1931609396  2019\n",
       "57                Poland         641202547  2019\n",
       "16                Canada         617836218  2019\n",
       "39                 Italy         462817629  2019\n",
       "69                 Spain         345401789  2019\n",
       "36                 India         329252172  2019\n",
       "40                 Japan         325991474  2019\n",
       "37               Ireland         293131431  2019\n",
       "74                Turkey         252786664  2019\n",
       "4              Australia         234699381  2019\n",
       "52              Pakistan         205676847  2019\n",
       "18  China, Hong Kong SAR         186231962  2019\n",
       "13                Brazil         182448592  2019"
      ]
     },
     "execution_count": 11,
     "metadata": {},
     "output_type": "execute_result"
    }
   ],
   "source": [
    "# Specify if we want to focus on a specific year (e.g. '2018') or 'all'\n",
    "\n",
    "year = '2017'\n",
    "\n",
    "# Trade Value\n",
    "top_importers_2017 = getAggStatistics(df, feature='Trade Value (US$)',\n",
    "                                     kind='Imports', year=year)\n",
    "top_importers_2017[0:topn]\n",
    "\n",
    "\n",
    "year = '2018'\n",
    "\n",
    "# Trade Value\n",
    "top_importers_2018 = getAggStatistics(df, feature='Trade Value (US$)',\n",
    "                                     kind='Imports', year=year)\n",
    "top_importers_2018[0:topn]\n",
    "\n",
    "\n",
    "year = '2019'\n",
    "\n",
    "# Trade Value\n",
    "top_importers_2019 = getAggStatistics(df, feature='Trade Value (US$)',\n",
    "                                     kind='Imports', year=year)\n",
    "top_importers_2019[0:topn]"
   ]
  },
  {
   "cell_type": "markdown",
   "metadata": {},
   "source": [
    "We can also visualize the results:"
   ]
  },
  {
   "cell_type": "code",
   "execution_count": 12,
   "metadata": {},
   "outputs": [
    {
     "data": {
      "image/png": "[encoded data removed]",
      "text/plain": [
       "<Figure size 864x432 with 1 Axes>"
      ]
     },
     "metadata": {},
     "output_type": "display_data"
    }
   ],
   "source": [
    "plotTopnCountries(df=top_importers_2019, feature='Trade Value (US$)',\n",
    "                      topn=topn, kind='Import', year=year)"
   ]
  },
  {
   "cell_type": "markdown",
   "metadata": {},
   "source": [
    "Its interesting that except the firt three countries (Belgium, USA, UK), the rest of the countries seem to import much less compared with the top-3 importers. "
   ]
  },
  {
   "cell_type": "markdown",
   "metadata": {},
   "source": [
    "## Part 3 - Main analysis\n",
    "\n",
    "In this part we are going to focus only at United Kingdom as our base country and perform an in depth analysis about the countries that UKise trading with, attempting to identify interesting patterns in the results. This is going to be done in two different parts. In the first part we will focus in the variations of imports by month, i.e. we will create Time Series object for the base country, where each observation will be the the Total Value of imports in a specific time point. The second part will focus on Network Analysis.\n",
    "\n",
    "### Time Series"
   ]
  },
  {
   "cell_type": "markdown",
   "metadata": {},
   "source": [
    "First we are creating the objects that will contain all the information that we need for our analysis. Each object is going to represent a country and in our analysis, as we mentioned previously, we will focus on United Kingdom - but we will attempt to make the codebase as robust as possible, so that the same analysis can be easily performed for any other country. \n",
    "\n",
    "At this point we will leverage the class **VaccinesTradeNetwork** which is a class that will allow us to create our analysis without having to include the code snipets in the notebook. If you want more information regarding how this class is organized, feel free to have a look at the repository."
   ]
  },
  {
   "cell_type": "code",
   "execution_count": 17,
   "metadata": {},
   "outputs": [],
   "source": [
    "# Create an object for United Kingdom \n",
    "united_kingdom = VaccinesTradeNetwork(df, country='United Kingdom')"
   ]
  },
  {
   "cell_type": "markdown",
   "metadata": {},
   "source": [
    "Now we are focusing in the cases that the UK is our base country and take into consideration all data that 1) UK is the importer country of vaccines or 2) other countries exporting **to** UK (and thus that makes UK again the importer country). This has been implemented in the createFlowDF method, in the VaccinesTradeNetwork **VaccinesTradeNetwork** class. If you would like to change our analysis to exports, we could just change the _tradeflow_ parameter."
   ]
  },
  {
   "cell_type": "code",
   "execution_count": 18,
   "metadata": {},
   "outputs": [],
   "source": [
    "united_kingdom_imports_df = united_kingdom.createFlowDF(tradeflow='Imports',\n",
    "                                                        source='Reporter',\n",
    "                                                        target='Partner')"
   ]
  },
  {
   "cell_type": "code",
   "execution_count": 19,
   "metadata": {},
   "outputs": [],
   "source": [
    "united_kingdom_ts = united_kingdom.generateTimeSeries(partner_country='USA', timeframe='month')"
   ]
  },
  {
   "cell_type": "code",
   "execution_count": 25,
   "metadata": {},
   "outputs": [
    {
     "data": {
      "image/png": "[encoded data removed]",
      "text/plain": [
       "<Figure size 576x288 with 1 Axes>"
      ]
     },
     "metadata": {},
     "output_type": "display_data"
    }
   ],
   "source": [
    "plt.rcParams['axes.facecolor'] = 'grey'\n",
    "united_kingdom.plotTimeSeries(partner_list=['USA'], timeframe='month')"
   ]
  },
  {
   "cell_type": "markdown",
   "metadata": {},
   "source": [
    "#### Fitting an ARIMA model"
   ]
  },
  {
   "cell_type": "code",
   "execution_count": 26,
   "metadata": {},
   "outputs": [],
   "source": [
    "from pandas.tools.plotting import autocorrelation_plot, lag_plot\n",
    "from statsmodels.tsa.stattools import acf, pacf, adfuller\n",
    "from statsmodels.graphics.tsaplots import plot_acf, plot_pacf\n",
    "from statsmodels.tsa.arima_model import ARIMA"
   ]
  },
  {
   "cell_type": "code",
   "execution_count": null,
   "metadata": {},
   "outputs": [],
   "source": []
  }
 ],
 "metadata": {
  "kernelspec": {
   "display_name": "Python 3",
   "language": "python",
   "name": "python3"
  },
  "language_info": {
   "codemirror_mode": {
    "name": "ipython",
    "version": 3
   },
   "file_extension": ".py",
   "mimetype": "text/x-python",
   "name": "python",
   "nbconvert_exporter": "python",
   "pygments_lexer": "ipython3",
   "version": "3.6.5"
  }
 },
 "nbformat": 4,
 "nbformat_minor": 2
}
